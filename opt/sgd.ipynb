{
 "cells": [
  {
   "cell_type": "markdown",
   "metadata": {},
   "source": [
    "# Optimization in Data Science Part 2"
   ]
  },
  {
   "cell_type": "markdown",
   "metadata": {},
   "source": [
    "Referenced Textbook: https://cobweb.cs.uga.edu/~jam/scalation_guide/comp_data_science.pdf\n",
    "\n",
    "Specifically Appendix A (Starting Page 619)"
   ]
  },
  {
   "cell_type": "markdown",
   "metadata": {},
   "source": [
    "## Stochastic Gradient Descent (SGD)"
   ]
  },
  {
   "cell_type": "markdown",
   "metadata": {},
   "source": [
    "Also want to list again another super helpful video from Josh Starmer of StatQuest on SGD. It has some great visuals! Here is the link: https://www.youtube.com/watch?v=vMh0zPT0tLI"
   ]
  },
  {
   "cell_type": "markdown",
   "metadata": {},
   "source": [
    "Stochastic means \"randomly determined; having a random probability distribution or pattern that may be analyzed statistically but may not be predicted precisely.\"\n",
    "\n",
    "So we can guess that with STOCHASTIC graditent descent it will involve taking random samples. Indeed this is what we are doing. Now, we introduced the idea of mini-batches to the gradient decent algorithm. \n",
    "\n",
    "However, since we are now only taking random samples of our data instances. This introduces or could introduce a significant amount of noise in our data.\n",
    "\n",
    "For example, if we had the following:\n",
    "\n",
    "![](../pics/sgd/mbe.jpg)"
   ]
  },
  {
   "cell_type": "markdown",
   "metadata": {},
   "source": [
    "In this case, if we used pure gradient decent we use all the data in every epoch, but if we use a randomly sampled mini-bach (denoted in green above) we get a much less cohesive looking graphical shape. Thus, we can see while SGD does significantly lower computational overhead it does introduce noise.\n",
    "\n",
    "This is why it is important for the alrogithm to be robust and not necessarily the most efficient as in a more deterministic setting."
   ]
  },
  {
   "cell_type": "markdown",
   "metadata": {},
   "source": [
    "We also need to now address another distinction: Pure Stochastic Gradient Descent (PSGD) vs Stochastic Gradient Descent (SGD)\n",
    "\n",
    "In both cases, we are creating a mini batch as described above, however, now we need to decide if we will update our weights for every data instance or just once for the full mini-batch.\n",
    "\n",
    "PSGD updates for every data instance in the mini-batch. \n",
    "SGD updates once per mini-batch by using an average of the gradients\n",
    "\n",
    "Since, PSGD is similar to what we have done before and because SGD is a pretty foundational algorithm in Data Science, we will impliment SGD."
   ]
  },
  {
   "cell_type": "markdown",
   "metadata": {},
   "source": [
    "This is a core algorithm for data science, and as such, I figured we would graduate a bit from our previous example for gradient decent and focus on a data science related problem. \n",
    "\n",
    "I will use SGD to optimize a perceptron (which is the simplest form of neural network). We will not focus on the particulars of the perceptron in this video, but if you are curious you can watch my video on perceptron linked in the description of this video. "
   ]
  },
  {
   "cell_type": "markdown",
   "metadata": {},
   "source": [
    "## Diagram\n",
    "\n",
    "![](../pics/sgd/sgd_dia.jpg)"
   ]
  },
  {
   "cell_type": "markdown",
   "metadata": {},
   "source": [
    "## Perceptron Code with SGD"
   ]
  },
  {
   "cell_type": "code",
   "execution_count": 31,
   "metadata": {},
   "outputs": [],
   "source": [
    "import numpy as np\n",
    "from tensorflow.keras import activations\n",
    "import matplotlib.pyplot as plt\n",
    "import pandas as pd\n",
    "import math"
   ]
  },
  {
   "cell_type": "markdown",
   "metadata": {},
   "source": [
    "### Intializing Data"
   ]
  },
  {
   "cell_type": "code",
   "execution_count": 32,
   "metadata": {},
   "outputs": [],
   "source": [
    "\n",
    "# 10 data points: one x1 x2 y\n",
    "xy = np.matrix (\n",
    "[[1.0, 0.0, 0.0, 0.5],\n",
    "[1.0, 0.0, 0.5, 0.3],\n",
    "[1.0, 0.0, 1.0, 0.2],\n",
    "[1.0, 0.5, 0.0, 0.8],\n",
    "[1.0, 0.5, 0.5, 0.5],\n",
    "[1.0, 0.5, 1.0, 0.3],\n",
    "[1.0, 1.0, 0.0, 1.0],\n",
    "[1.0, 1.0, 0.5, 0.8],\n",
    "[1.0, 1.0, 1.0, 0.5],\n",
    "[1.0, 1.0, 1.0, 0.6]]\n",
    ")\n",
    "\n",
    "# Taking first 3 columns of xy as matrix\n",
    "x = xy[:,0:3]\n",
    "\n",
    "# Taking last column of xy as array\n",
    "y = xy[:, 3]\n",
    "\n",
    "# Initializing B matrix\n",
    "b = np.matrix (\n",
    "[[0.1],\n",
    "[0.2],\n",
    "[0.1]]\n",
    ")"
   ]
  },
  {
   "cell_type": "markdown",
   "metadata": {},
   "source": [
    "### Finding SST"
   ]
  },
  {
   "cell_type": "code",
   "execution_count": 33,
   "metadata": {},
   "outputs": [],
   "source": [
    "# Create a function to find SST \n",
    "\n",
    "def getSST (target):\n",
    "    \n",
    "    # Finding the sum of squares total\n",
    "    y_mean = np.mean (target)\n",
    "    sst = 0\n",
    "\n",
    "    for each in target:\n",
    "        sst = sst + (each - y_mean) ** 2\n",
    "\n",
    "    # This just pulls the sst value out of the matrix to make it easier to work with\n",
    "    sst = np.ndarray.item(sst)\n",
    "    \n",
    "    return sst\n",
    "    "
   ]
  },
  {
   "cell_type": "markdown",
   "metadata": {},
   "source": [
    "### Assigning Batches"
   ]
  },
  {
   "cell_type": "code",
   "execution_count": 34,
   "metadata": {},
   "outputs": [],
   "source": [
    "# Create a function to randomly break data in batches based on batch size\n",
    "# This function ensures that all data will be represented in a batch and that each batch is randomly selected\n",
    "\n",
    "def makeBatches(data, bs):\n",
    "    \n",
    "   num_batch = math.ceil(data.shape[0] / bs)\n",
    "    \n",
    "   pos_choices = range(0, data.shape[0])\n",
    "   \n",
    "   rand_list = np.random.choice(pos_choices, data.shape[0], False)\n",
    "   \n",
    "   batch_list = np.split(rand_list, num_batch)\n",
    "      \n",
    "   return batch_list"
   ]
  },
  {
   "cell_type": "markdown",
   "metadata": {},
   "source": [
    "### Getting Values for Batches"
   ]
  },
  {
   "cell_type": "code",
   "execution_count": 35,
   "metadata": {},
   "outputs": [],
   "source": [
    "# Create a function to actually get value from original training set based on batch_list\n",
    "\n",
    "def getBatchVals(batch):\n",
    "    \n",
    "    batch_vals_x = []\n",
    "    batch_vals_y = []\n",
    "    \n",
    "    for each in batch:\n",
    "        batch_vals_x.append((x[each][:]).tolist()[0])\n",
    "        batch_vals_y.append((y[each][:]).tolist()[0])\n",
    "\n",
    "    batch_vals_x = np.matrix(batch_vals_x)\n",
    "        \n",
    "    return batch_vals_x, batch_vals_y\n",
    "    "
   ]
  },
  {
   "cell_type": "markdown",
   "metadata": {},
   "source": [
    "### Updating Weights\n",
    "\n",
    "General equations we are using blow:\n",
    "\n",
    "![](./pics/sgd/sgd_eqn.jpg)"
   ]
  },
  {
   "cell_type": "code",
   "execution_count": 36,
   "metadata": {},
   "outputs": [],
   "source": [
    "# Create a function to update our weights\n",
    "\n",
    "def updateWeightsPercept (x, y, b, eta):\n",
    "    \n",
    "    # Pre-activation vector\n",
    "    u = np.dot(x, b)\n",
    "    \n",
    "    # Predicted value vector\n",
    "    y_hat = activations.sigmoid(u)\n",
    "    \n",
    "    # Negative error vector\n",
    "    e = y - y_hat\n",
    "    \n",
    "    # Correction vector (delta or d)\n",
    "    d = - e * (y_hat * (1 - y_hat))\n",
    "    \n",
    "    # Gradients vector\n",
    "    grad = np.transpose(x).dot(d)\n",
    "    \n",
    "    # Updated weights vector\n",
    "    b = b - eta * grad    \n",
    "    \n",
    "    # Sum of squared errors\n",
    "    sse = np.sum(e * e)\n",
    "    \n",
    "    return b, sse\n",
    "    "
   ]
  },
  {
   "cell_type": "markdown",
   "metadata": {},
   "source": [
    "### Setting Hyperparametes"
   ]
  },
  {
   "cell_type": "code",
   "execution_count": 37,
   "metadata": {},
   "outputs": [],
   "source": [
    "\n",
    "# Setting new_parms = b so original value will not get over written\n",
    "new_parms = b\n",
    "\n",
    "# Lists to hold values for plotting\n",
    "sse_list = []\n",
    "rsq_list = []\n",
    "x_list = []\n",
    "\n",
    "# Find SST\n",
    "sst = getSST(y)\n",
    "\n",
    "# Set max epochs\n",
    "max_iters = 100\n",
    "\n",
    "# Set bath size\n",
    "batch_size = 5\n",
    "\n",
    "# Set learning rate\n",
    "eta = .1"
   ]
  },
  {
   "cell_type": "markdown",
   "metadata": {},
   "source": [
    "### Preforming SGD"
   ]
  },
  {
   "cell_type": "code",
   "execution_count": 38,
   "metadata": {},
   "outputs": [],
   "source": [
    "\n",
    "# Outer loop handles interations for epochs\n",
    "for i in range(0, max_iters):\n",
    "    \n",
    "    # Randomly getting list of index positions of origional data for batches\n",
    "    batch_list = makeBatches(x, batch_size)\n",
    "    \n",
    "    # Inner loop iterated through all batches of data in each epoch\n",
    "    for batch in batch_list:\n",
    "        \n",
    "        # Getting data associated with each batch\n",
    "        batch_vals_x, batch_vals_y = getBatchVals(batch)\n",
    "        \n",
    "        # Updating our weights once per batch\n",
    "        new_parms, sse = updateWeightsPercept(batch_vals_x, batch_vals_y, new_parms, eta)\n",
    "\n",
    "    # Appending all to lists so we can plot later\n",
    "    x_list.append(i)\n",
    "    sse_list.append(sse)\n",
    "    rsq_list.append(1-sse/sst)"
   ]
  },
  {
   "cell_type": "markdown",
   "metadata": {},
   "source": [
    "### Plots"
   ]
  },
  {
   "cell_type": "code",
   "execution_count": 39,
   "metadata": {},
   "outputs": [
    {
     "data": {
      "image/png": "[encoded data removed]",
      "text/plain": [
       "<Figure size 1440x720 with 2 Axes>"
      ]
     },
     "metadata": {
      "needs_background": "light"
     },
     "output_type": "display_data"
    }
   ],
   "source": [
    "\n",
    "# To plot our findings\n",
    "\n",
    "plt.figure(figsize=(20, 10))\n",
    "\n",
    "plt.subplot(1, 2, 1)\n",
    "plt.plot(x_list, sse_list)\n",
    "plt.title('SSE vs Iterations')\n",
    "plt.xlabel('Iterations')\n",
    "plt.ylabel('SSE')\n",
    "\n",
    "plt.subplot(1, 2, 2)\n",
    "plt.plot(x_list, rsq_list)\n",
    "plt.title(\"R^2 vs Iterations\")\n",
    "plt.xlabel('Iterations')\n",
    "plt.ylabel('R^2')\n",
    "\n",
    "\n",
    "plt.show()"
   ]
  }
 ],
 "metadata": {
  "interpreter": {
   "hash": "221a3162a34c18c9a99c58801e6d1a4585a55d88c092b8d075b8d85a68ef51ea"
  },
  "kernelspec": {
   "display_name": "Python 3.8.11 ('base')",
   "language": "python",
   "name": "python3"
  },
  "language_info": {
   "codemirror_mode": {
    "name": "ipython",
    "version": 3
   },
   "file_extension": ".py",
   "mimetype": "text/x-python",
   "name": "python",
   "nbconvert_exporter": "python",
   "pygments_lexer": "ipython3",
   "version": "3.9.10"
  },
  "orig_nbformat": 4
 },
 "nbformat": 4,
 "nbformat_minor": 2
}
