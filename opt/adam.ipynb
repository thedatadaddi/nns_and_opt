{
 "cells": [
  {
   "cell_type": "markdown",
   "metadata": {},
   "source": [
    "# Optimization in Data Science Part 4"
   ]
  },
  {
   "cell_type": "markdown",
   "metadata": {},
   "source": [
    "Referenced Textbook: https://cobweb.cs.uga.edu/~jam/scalation_guide/comp_data_science.pdf\n",
    "\n",
    "Specifically Appendix A (Starting Page 619)"
   ]
  },
  {
   "cell_type": "markdown",
   "metadata": {},
   "source": [
    "## Stochastic Gradient Descent with ADAptive Moment Estimation (ADAM)"
   ]
  },
  {
   "cell_type": "markdown",
   "metadata": {},
   "source": [
    "So, now that been over SGD with momentum lets tweek it one more time to impliment the full ADAM algorithm. This is pretty much the industry standard these days and is the default setting on many of the most popular data science packages so it makes sense that we would really want to understand this particular optimizer."
   ]
  },
  {
   "cell_type": "markdown",
   "metadata": {},
   "source": [
    "Some added bonuses are that this method is more efficient when working with large problem involving a lot of data or parameters and it requires less memory. Intuitively, it is a combination of SGDM and Root Mean Squared Propagation (RMSprop) algorithms."
   ]
  },
  {
   "cell_type": "markdown",
   "metadata": {},
   "source": [
    "Momentum: \n",
    "\n",
    "As we discussed and implimented with SDGM, this algorithm is used to accelerate the gradient descent algorithm by taking into consideration the exponentially weighted average of the gradients. Using averages makes the algorithm converge towards the minima in a faster pace.\n",
    "\n",
    "RMSprop:\n",
    "\n",
    "Now we are going to keep the momentum piece we used before, and added in some new logic taken from RMSprop. Root mean square prop or RMSprop is an adaptive learning algorithm that tries to improve AdaGrad. In AdaGrad the algorithm takes the cumulative sum of squared gradients, but with RMSprop and now with ADAM, it takes the exponential moving average of these squared gradients."
   ]
  },
  {
   "cell_type": "markdown",
   "metadata": {},
   "source": [
    "Now, as before we will show the associated formula need to impliment this algorithm:\n",
    "\n",
    "![](../pics/adam/adam_eqn.jpg)\n"
   ]
  },
  {
   "cell_type": "markdown",
   "metadata": {},
   "source": [
    "Below we will impliment adam with the \"patience\" stopping rule. This stopping rule basically says once our chosen preformance metric (in this case sse) stops improving for a given number of epochs we will end early. After a bit of googling, I found that 10 % of the total number of epoch is a good rule of thumb so we will start with that, but leave it as a hyperparameter we can tune. "
   ]
  },
  {
   "cell_type": "markdown",
   "metadata": {},
   "source": [
    "## Perceptron Code with ADAM"
   ]
  },
  {
   "cell_type": "code",
   "execution_count": 100,
   "metadata": {},
   "outputs": [],
   "source": [
    "import numpy as np\n",
    "from tensorflow.keras import activations\n",
    "import matplotlib.pyplot as plt\n",
    "import numpy as np\n",
    "import math"
   ]
  },
  {
   "cell_type": "markdown",
   "metadata": {},
   "source": [
    "### Initializing Data"
   ]
  },
  {
   "cell_type": "code",
   "execution_count": 101,
   "metadata": {},
   "outputs": [],
   "source": [
    "\n",
    "# 10 data points: one x1 x2 y\n",
    "xy = np.matrix (\n",
    "[[1.0, 0.0, 0.0, 0.5],\n",
    "[1.0, 0.0, 0.5, 0.3],\n",
    "[1.0, 0.0, 1.0, 0.2],\n",
    "[1.0, 0.5, 0.0, 0.8],\n",
    "[1.0, 0.5, 0.5, 0.5],\n",
    "[1.0, 0.5, 1.0, 0.3],\n",
    "[1.0, 1.0, 0.0, 1.0],\n",
    "[1.0, 1.0, 0.5, 0.8],\n",
    "[1.0, 1.0, 1.0, 0.5],\n",
    "[1.0, 1.0, 1.0, 0.6]]\n",
    ")\n",
    "\n",
    "# Taking first 3 columns of xy as matrix\n",
    "x = xy[:,0:3]\n",
    "\n",
    "# Taking last column of xy as array\n",
    "y = xy[:, 3]\n",
    "\n",
    "# Initializing B matrix\n",
    "b = np.matrix (\n",
    "[[0.1],\n",
    "[0.2],\n",
    "[0.1]]\n",
    ")"
   ]
  },
  {
   "cell_type": "markdown",
   "metadata": {},
   "source": [
    "### Finding SST"
   ]
  },
  {
   "cell_type": "code",
   "execution_count": 102,
   "metadata": {},
   "outputs": [],
   "source": [
    "# Create a function to find SST \n",
    "\n",
    "def getSST (target):\n",
    "    \n",
    "    # Finding the sum of squares total\n",
    "    y_mean = np.mean (target)\n",
    "    sst = 0\n",
    "\n",
    "    for each in target:\n",
    "        sst = sst + (each - y_mean) ** 2\n",
    "\n",
    "    # This just pulls the sst value out of the matrix to make it easier to work with\n",
    "    sst = np.ndarray.item(sst)\n",
    "    \n",
    "    return sst"
   ]
  },
  {
   "cell_type": "markdown",
   "metadata": {},
   "source": [
    "### Assigning Batches"
   ]
  },
  {
   "cell_type": "code",
   "execution_count": 103,
   "metadata": {},
   "outputs": [],
   "source": [
    "# Create a function to randomly break data in batches based on batch size\n",
    "# This function ensures that all data will be represented in a batch and that each batch is randomly selected\n",
    "\n",
    "def makeBatches(data, bs):\n",
    "    \n",
    "   num_batch = math.ceil(data.shape[0] / bs)\n",
    "    \n",
    "   pos_choices = range(0, data.shape[0])\n",
    "   \n",
    "   rand_list = np.random.choice(pos_choices, data.shape[0], False)\n",
    "   \n",
    "   batch_list = np.split(rand_list, num_batch)\n",
    "      \n",
    "   return batch_list"
   ]
  },
  {
   "cell_type": "markdown",
   "metadata": {},
   "source": [
    "### Getting Values for Batches"
   ]
  },
  {
   "cell_type": "code",
   "execution_count": 104,
   "metadata": {},
   "outputs": [],
   "source": [
    "# Create a function to actually get value from original training set based on batch_list\n",
    "\n",
    "def getBatchVals(batch):\n",
    "    \n",
    "    batch_vals_x = []\n",
    "    batch_vals_y = []\n",
    "    \n",
    "    for each in batch:\n",
    "        batch_vals_x.append((x[each][:]).tolist()[0])\n",
    "        batch_vals_y.append((y[each][:]).tolist()[0])\n",
    "\n",
    "    batch_vals_x = np.matrix(batch_vals_x)\n",
    "        \n",
    "    return batch_vals_x, batch_vals_y"
   ]
  },
  {
   "cell_type": "markdown",
   "metadata": {},
   "source": [
    "### Calculating Gradient"
   ]
  },
  {
   "cell_type": "code",
   "execution_count": 105,
   "metadata": {},
   "outputs": [],
   "source": [
    "# Create a function to calcuate gradients\n",
    "\n",
    "def calcGrad (x, y, b):\n",
    "    \n",
    "    # Pre-activation vector\n",
    "    u = np.dot(x, b)\n",
    "    \n",
    "    # Predicted value vector\n",
    "    y_hat = activations.sigmoid(u)\n",
    "    \n",
    "    # Negative error vector\n",
    "    e = y - y_hat\n",
    "    \n",
    "    # Correction vector (delta or d)\n",
    "    d = - e * (y_hat * (1 - y_hat))\n",
    "    \n",
    "    # Gradients vector\n",
    "    grad = np.transpose(x).dot(d)\n",
    "    \n",
    "    # Sum of squared errors\n",
    "    sse = np.sum(e * e)\n",
    "    \n",
    "    return grad, sse"
   ]
  },
  {
   "cell_type": "markdown",
   "metadata": {},
   "source": [
    "### Setting Hyperparameters"
   ]
  },
  {
   "cell_type": "code",
   "execution_count": 106,
   "metadata": {},
   "outputs": [],
   "source": [
    "# Setting new_parms = b so original value will not get over written\n",
    "new_parms = b\n",
    "\n",
    "# Lists to hold values for plotting\n",
    "sse_list = []\n",
    "rsq_list = []\n",
    "x_list = []\n",
    "\n",
    "# Find SST\n",
    "sst = getSST(y)\n",
    "\n",
    "# Set max epochs\n",
    "max_iters = 100\n",
    "\n",
    "# Set bath size\n",
    "batch_size = 5\n",
    "\n",
    "# Set learning rate\n",
    "eta = .1\n",
    "\n",
    "# Set momentum (mean) decay hyper-parameter\n",
    "# Standard value is 0.9\n",
    "beta_1 = .9\n",
    "\n",
    "# Set momentum (variance) decay hyper-parameter\n",
    "# Standard value is 0.9\n",
    "beta_2 = .9\n",
    "\n",
    "# Define eps\n",
    "eps = 1.0e-10\n",
    "\n",
    "# If you want to use the patience stopping rule set useStop to True otherwise put as False\n",
    "useStop = True\n",
    "\n",
    "# Setting \"patience\" stopping rule parameter as a percent of total epochs\n",
    "stop_rule = 0.10 \n",
    "stop_val = math.ceil(stop_rule * max_iters)\n",
    "\n",
    "# Set stopping rule sensitivity factor\n",
    "# Percent difference improvement that must be made before progress is considered irrelevant\n",
    "ss_ = .001"
   ]
  },
  {
   "cell_type": "markdown",
   "metadata": {},
   "source": [
    "### Performing SGD with ADAM and Patience Stopping Rule"
   ]
  },
  {
   "cell_type": "code",
   "execution_count": 107,
   "metadata": {},
   "outputs": [
    {
     "name": "stdout",
     "output_type": "stream",
     "text": [
      "1\n",
      "1e+25 0.24043067282873784\n",
      "0.24043067282873784 0.14653589017869698\n",
      "0.14653589017869698 0.11230036329193505\n",
      "0.11230036329193505 0.05632449302753732\n",
      "1\n",
      "0.05632449302753732 0.05606571104015712\n",
      "1\n",
      "0.05606571104015712 0.05587643777307676\n",
      "0.05587643777307676 0.03840561369268834\n",
      "0.03840561369268834 0.022441728456088723\n",
      "0.022441728456088723 0.019871774065012757\n",
      "0.019871774065012757 0.011822939208069611\n",
      "1\n",
      "2\n",
      "0.011822939208069611 0.005783462409630638\n",
      "1\n",
      "2\n",
      "3\n",
      "4\n",
      "5\n",
      "6\n",
      "7\n",
      "8\n",
      "9\n",
      "10\n",
      "\n",
      "0.1 % stoping rule at a 0.001 % sensitivity factor has been reached... alogrithm exiting\n"
     ]
    }
   ],
   "source": [
    "\n",
    "### Defining Terms\n",
    "\n",
    "# p = momentum mean\n",
    "# v = momentum uncentered variance\n",
    "# p_hat = corrected mean\n",
    "# v_hat = corrected uncentered variance \n",
    "# ts = time step\n",
    "# eps = a very small value added to it to avoid division by zero\n",
    "\n",
    "#Initializing best value as huge error\n",
    "new_best = old_best = 1.0e25\n",
    "inc = 0\n",
    "\n",
    "# Outer loop handles interations for epochs\n",
    "for i in range(0, max_iters):\n",
    "    \n",
    "    # Randomly getting list of index positions of origional data for batches\n",
    "    batch_list = makeBatches(x, batch_size)\n",
    "\n",
    "    # Resetting momentum for each iteration\n",
    "    p_list = []\n",
    "    v_list = []\n",
    "    p_hat_list = []\n",
    "    v_hat_list = []\n",
    "    \n",
    "    # Implimenting timestep \n",
    "    # NOTICE the counter starts at 1 not zero\n",
    "    ts = 1\n",
    "    \n",
    "    if (useStop):\n",
    "    \n",
    "        # Implimenting \"patience stopping rule\"\n",
    "        # Using rule that difference between new and old evaluation metrics must be greater than some percentage of the \n",
    "        # new evaluation metric\n",
    "        if (abs(new_best - old_best) > ss_*new_best):\n",
    "            # print(old_best, new_best)\n",
    "            old_best = new_best\n",
    "            inc = 0\n",
    "        # If it does not meet the above criteria we increment the counter\n",
    "        else:\n",
    "            inc = inc + 1\n",
    "            # print(inc)\n",
    "            # If increments equal out stop value we are done an teminate early.\n",
    "            if (stop_val == inc):\n",
    "                print()\n",
    "                print(str(stop_rule) + \" % stoping rule at a \" + str(ss_) + \" % sensitivity factor has been reached... alogrithm exiting\")\n",
    "                break\n",
    "    \n",
    "    # Inner loop iterated through all batches of data in each epoch\n",
    "    for batch in batch_list:\n",
    "        \n",
    "        # Getting data associated with each batch\n",
    "        batch_vals_x, batch_vals_y = getBatchVals(batch)\n",
    "        \n",
    "        # Calculating gradients\n",
    "        grad, sse = calcGrad(batch_vals_x, batch_vals_y, new_parms)\n",
    "        \n",
    "        # If better parameter value update new_best\n",
    "        if (useStop):\n",
    "            if (sse < new_best):\n",
    "                new_best = sse\n",
    "        \n",
    "        \"\"\"\n",
    "        Note: Below you will notice that sometimes we subtract 1 from the time step and sometimes \n",
    "        we subtract 2. This is becuase we had to start the index at 1 so that our time step starts at one\n",
    "        and we do not end up dividing by zero and we are raising the beta value to the correct time step. \n",
    "        However, since we are starting from 1 and not zero we need to subtract 1 from ts when we want the\n",
    "        current values in our storage lists and subract by 2 when we want the previous\n",
    "        \"\"\"\n",
    "        \n",
    "        # Getting first values for p, v, p_hat, and v_hat\n",
    "        if (ts == 1):\n",
    "            \n",
    "            p_list.append( (1 - beta_1) * grad )\n",
    "            v_list.append( (1 - beta_2) * np.square(grad) )\n",
    "            \n",
    "            p_hat_list.append( p_list[ts - 1] / (1 - beta_1 ** ts) )\n",
    "            v_hat_list.append( v_list[ts - 1] / (1 - beta_2 ** ts) )\n",
    "            \n",
    "        # Getting all other values for p, v, p_hat, and v_hat\n",
    "        else:\n",
    "            \n",
    "            p_list.append( (1 - beta_1) * grad + beta_1 * p_list[ts - 2] )\n",
    "            v_list.append( (1 - beta_2) * np.square(grad) + beta_2 * v_list[ts - 2] )\n",
    "            \n",
    "            p_hat_list.append( p_list[ts - 1] / (1 - beta_1 ** ts) )\n",
    "            v_hat_list.append( v_list[ts - 1] / (1 - beta_2 ** ts) )\n",
    "            \n",
    "        # Updated weights vector\n",
    "        new_parms = new_parms - eta * ( p_hat_list[ts - 1] / (np.sqrt(v_hat_list[ts - 1]) + eps) )\n",
    "        \n",
    "        # Incrementing time step\n",
    "        ts = ts + 1\n",
    "\n",
    "    # Appending all to lists so we can plot later\n",
    "    x_list.append(i)\n",
    "    sse_list.append(sse)\n",
    "    rsq_list.append(1-sse/sst)"
   ]
  },
  {
   "cell_type": "markdown",
   "metadata": {},
   "source": [
    "### Plots"
   ]
  },
  {
   "cell_type": "code",
   "execution_count": 108,
   "metadata": {},
   "outputs": [
    {
     "data": {
      "image/png": "[encoded data removed]",
      "text/plain": [
       "<Figure size 1440x720 with 2 Axes>"
      ]
     },
     "metadata": {
      "needs_background": "light"
     },
     "output_type": "display_data"
    }
   ],
   "source": [
    "# To plot our findings\n",
    "\n",
    "plt.figure(figsize=(20, 10))\n",
    "\n",
    "plt.subplot(1, 2, 1)\n",
    "plt.plot(x_list, sse_list)\n",
    "plt.title('SSE vs Iterations')\n",
    "plt.xlabel('Iterations')\n",
    "plt.ylabel('SSE')\n",
    "\n",
    "plt.subplot(1, 2, 2)\n",
    "plt.plot(x_list, rsq_list)\n",
    "plt.title(\"R^2 vs Iterations\")\n",
    "plt.xlabel('Iterations')\n",
    "plt.ylabel('R^2')\n",
    "\n",
    "\n",
    "plt.show()"
   ]
  }
 ],
 "metadata": {
  "interpreter": {
   "hash": "221a3162a34c18c9a99c58801e6d1a4585a55d88c092b8d075b8d85a68ef51ea"
  },
  "kernelspec": {
   "display_name": "Python 3.8.11 ('base')",
   "language": "python",
   "name": "python3"
  },
  "language_info": {
   "codemirror_mode": {
    "name": "ipython",
    "version": 3
   },
   "file_extension": ".py",
   "mimetype": "text/x-python",
   "name": "python",
   "nbconvert_exporter": "python",
   "pygments_lexer": "ipython3",
   "version": "3.8.11"
  },
  "orig_nbformat": 4
 },
 "nbformat": 4,
 "nbformat_minor": 2
}
