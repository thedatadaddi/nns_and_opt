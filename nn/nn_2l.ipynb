{
 "cells": [
  {
   "cell_type": "markdown",
   "metadata": {},
   "source": [
    "# Neural Networks Part 2"
   ]
  },
  {
   "cell_type": "markdown",
   "metadata": {},
   "source": [
    "Referenced Textbook: https://cobweb.cs.uga.edu/~jam/scalation_guide/comp_data_science.pdf\n",
    "\n",
    "Specifically Chapter 10 - Section 6 (Starting on page 339)"
   ]
  },
  {
   "cell_type": "markdown",
   "metadata": {},
   "source": [
    "## 2 Layer Neural Nets"
   ]
  },
  {
   "cell_type": "markdown",
   "metadata": {},
   "source": [
    "So, now that we understand what a percptrons. Lets complicate things a little more by now expanding to 2 layers. Show below is the basic 2L NN structure\n",
    "\n",
    "![](../pics/2l_nn/2l_nn.png)\n",
    "\n"
   ]
  },
  {
   "cell_type": "markdown",
   "metadata": {},
   "source": [
    "From here, lets turn this into a model equation.\n",
    "\n",
    "we need to start buy summing the dot product of each of the b vectors with the x vectors. Then apply some function (activation function in this case) and add that our error. This is shown more concretely below:\n",
    "\n",
    "![](../pics/2l_nn/mod_eqn1.png)\n",
    "\n",
    "Now, instead of looking as this at the vector level lets condense the above expression down to the matrix level. \n",
    "\n",
    "![](../pics/2l_nn/mod_eqn2.png)\n"
   ]
  },
  {
   "cell_type": "markdown",
   "metadata": {},
   "source": [
    "At this point, things are very similar to what we did with perceptron. Only real difference is the now instead of working with vectors we are working with matrices. \n",
    "\n",
    "Predicted Value Matrix:\n",
    "\n",
    "![](../pics/2l_nn/pred.png)\n",
    "\n",
    "Negative Error Matrix\n",
    "\n",
    "![](../pics/2l_nn/neg_err.png)\n",
    "\n",
    "Delta Matrix\n",
    "\n",
    "![](../pics/2l_nn/delta.png)   \n",
    "\n",
    "Below you will notice a strange symbol of a dot surrouned by a circle. This is donoting what is called the Hadamard product. The Hadamard product is just a fancy way of saying element-wise multiplication. \n",
    "\n",
    "Element-wise multiplication for matrices looks like the following:\n",
    "\n",
    "![](../pics/2l_nn/had_prod.png) \n",
    "\n",
    "Parameter (Weights) Update Equation\n",
    "\n",
    "![](../pics/2l_nn/update.png)"
   ]
  },
  {
   "cell_type": "markdown",
   "metadata": {},
   "source": [
    "## Code Implimentation"
   ]
  },
  {
   "cell_type": "markdown",
   "metadata": {},
   "source": [
    "### Imports"
   ]
  },
  {
   "cell_type": "code",
   "execution_count": 296,
   "metadata": {},
   "outputs": [],
   "source": [
    "import numpy as np\n",
    "from tensorflow.keras import activations\n",
    "import matplotlib.pyplot as plt\n",
    "import pandas as pd"
   ]
  },
  {
   "cell_type": "markdown",
   "metadata": {},
   "source": [
    "### Creating Inputs"
   ]
  },
  {
   "cell_type": "code",
   "execution_count": 297,
   "metadata": {},
   "outputs": [],
   "source": [
    "# 9 data points: one x1 x2 y\n",
    "\n",
    "xy = np.matrix (\n",
    "[[1.0, 0.0, 0.0, 0.5],\n",
    "[1.0, 0.0, 0.5, 0.3],\n",
    "[1.0, 0.0, 1.0, 0.2],\n",
    "[1.0, 0.5, 0.0, 0.8],\n",
    "[1.0, 0.5, 0.5, 0.5],\n",
    "[1.0, 0.5, 1.0, 0.3],\n",
    "[1.0, 1.0, 0.0, 1.0],\n",
    "[1.0, 1.0, 0.5, 0.8],\n",
    "[1.0, 1.0, 1.0, 0.5]]\n",
    ")"
   ]
  },
  {
   "cell_type": "code",
   "execution_count": 298,
   "metadata": {},
   "outputs": [],
   "source": [
    "# Taking first 3 columns of xy as matrix\n",
    "X = xy[:,0:3]"
   ]
  },
  {
   "cell_type": "code",
   "execution_count": 299,
   "metadata": {},
   "outputs": [],
   "source": [
    "# Taking last column of xy as array\n",
    "y = np.array(xy[:, 3])\n",
    "\n",
    "# Squaring y and saving as array\n",
    "ysq = np.array(y ** 2)"
   ]
  },
  {
   "cell_type": "code",
   "execution_count": 300,
   "metadata": {},
   "outputs": [
    {
     "data": {
      "text/plain": [
       "array([[0.5 , 0.25],\n",
       "       [0.3 , 0.09],\n",
       "       [0.2 , 0.04],\n",
       "       [0.8 , 0.64],\n",
       "       [0.5 , 0.25],\n",
       "       [0.3 , 0.09],\n",
       "       [1.  , 1.  ],\n",
       "       [0.8 , 0.64],\n",
       "       [0.5 , 0.25]])"
      ]
     },
     "execution_count": 300,
     "metadata": {},
     "output_type": "execute_result"
    }
   ],
   "source": [
    "# Concatenating y and ysq as columns to for Y matrix\n",
    "Y = np.concatenate((y, ysq), axis=1)\n",
    "Y"
   ]
  },
  {
   "cell_type": "code",
   "execution_count": 301,
   "metadata": {},
   "outputs": [],
   "source": [
    "# Initializing B matrix\n",
    "B = np.matrix (\n",
    "[[0.1, 0.1],\n",
    "[0.2, 0.1],\n",
    "[0.1, 0.1]]\n",
    ")"
   ]
  },
  {
   "cell_type": "markdown",
   "metadata": {},
   "source": [
    "### Testing NN Parts"
   ]
  },
  {
   "cell_type": "code",
   "execution_count": 302,
   "metadata": {},
   "outputs": [
    {
     "data": {
      "text/plain": [
       "matrix([[0.1 , 0.1 ],\n",
       "        [0.15, 0.15],\n",
       "        [0.2 , 0.2 ],\n",
       "        [0.2 , 0.15],\n",
       "        [0.25, 0.2 ],\n",
       "        [0.3 , 0.25],\n",
       "        [0.3 , 0.2 ],\n",
       "        [0.35, 0.25],\n",
       "        [0.4 , 0.3 ]])"
      ]
     },
     "execution_count": 302,
     "metadata": {},
     "output_type": "execute_result"
    }
   ],
   "source": [
    "# Pre-activation matrix\n",
    "# U = np.dot(X, B)\n",
    "U = X.dot(B)\n",
    "U"
   ]
  },
  {
   "cell_type": "code",
   "execution_count": 303,
   "metadata": {},
   "outputs": [
    {
     "data": {
      "text/plain": [
       "matrix([[0.52497919, 0.52497919],\n",
       "        [0.53742985, 0.53742985],\n",
       "        [0.549834  , 0.549834  ],\n",
       "        [0.549834  , 0.53742985],\n",
       "        [0.5621765 , 0.549834  ],\n",
       "        [0.57444252, 0.5621765 ],\n",
       "        [0.57444252, 0.549834  ],\n",
       "        [0.58661758, 0.5621765 ],\n",
       "        [0.59868766, 0.57444252]])"
      ]
     },
     "execution_count": 303,
     "metadata": {},
     "output_type": "execute_result"
    }
   ],
   "source": [
    "# Predicted value matrix\n",
    "Y_hat = np.matrix(activations.sigmoid(U))\n",
    "Y_hat"
   ]
  },
  {
   "cell_type": "code",
   "execution_count": 304,
   "metadata": {},
   "outputs": [
    {
     "data": {
      "text/plain": [
       "matrix([[ 0.02497919,  0.27497919],\n",
       "        [ 0.23742985,  0.44742985],\n",
       "        [ 0.349834  ,  0.509834  ],\n",
       "        [-0.250166  , -0.10257015],\n",
       "        [ 0.0621765 ,  0.299834  ],\n",
       "        [ 0.27444252,  0.4721765 ],\n",
       "        [-0.42555748, -0.450166  ],\n",
       "        [-0.21338242, -0.0778235 ],\n",
       "        [ 0.09868766,  0.32444252]])"
      ]
     },
     "execution_count": 304,
     "metadata": {},
     "output_type": "execute_result"
    }
   ],
   "source": [
    "# Negative error matrix\n",
    "E = Y_hat - Y\n",
    "E"
   ]
  },
  {
   "cell_type": "code",
   "execution_count": 305,
   "metadata": {},
   "outputs": [
    {
     "data": {
      "text/plain": [
       "matrix([[ 0.00622921,  0.06857322],\n",
       "        [ 0.05902482,  0.11123062],\n",
       "        [ 0.08658971,  0.12619236],\n",
       "        [-0.06192023, -0.02549884],\n",
       "        [ 0.01530376,  0.07421388],\n",
       "        [ 0.06708975,  0.11621873],\n",
       "        [-0.10403106, -0.11142355],\n",
       "        [-0.05174468, -0.01915502],\n",
       "        [ 0.02371077,  0.07931267]])"
      ]
     },
     "execution_count": 305,
     "metadata": {},
     "output_type": "execute_result"
    }
   ],
   "source": [
    "# f'(U) * E -> Hadamard Product (element wise multiplication) -> np.multiply()\n",
    "# f'(U) will be depend on activation and be different for tanh\n",
    "\n",
    "# sigmoid -> y_hat(1-y_hat) \n",
    "\n",
    "# Correction matrix\n",
    "Delta = np.multiply(np.multiply(Y_hat,(1-Y_hat)),E)\n",
    "Delta"
   ]
  },
  {
   "cell_type": "code",
   "execution_count": 306,
   "metadata": {},
   "outputs": [
    {
     "data": {
      "text/plain": [
       "matrix([[ 0.04025205,  0.41966408],\n",
       "        [-0.12182833,  0.031201  ],\n",
       "        [ 0.18868219,  0.4048685 ]])"
      ]
     },
     "execution_count": 306,
     "metadata": {},
     "output_type": "execute_result"
    }
   ],
   "source": [
    "# Gradients matrix\n",
    "G = np.transpose(X).dot(Delta)\n",
    "G"
   ]
  },
  {
   "cell_type": "code",
   "execution_count": 307,
   "metadata": {},
   "outputs": [
    {
     "data": {
      "text/plain": [
       "matrix([[ 0.05974795, -0.31966408],\n",
       "        [ 0.32182833,  0.068799  ],\n",
       "        [-0.08868219, -0.3048685 ]])"
      ]
     },
     "execution_count": 307,
     "metadata": {},
     "output_type": "execute_result"
    }
   ],
   "source": [
    "# Eta is learning rate\n",
    "n = 1\n",
    "\n",
    "# Updated values matrix\n",
    "B = B - np.multiply(G, n)\n",
    "B"
   ]
  },
  {
   "cell_type": "markdown",
   "metadata": {},
   "source": [
    "### Putting 2L NN In Loop"
   ]
  },
  {
   "cell_type": "code",
   "execution_count": 308,
   "metadata": {},
   "outputs": [],
   "source": [
    "# Setting B as new variable so it will not over written in loop\n",
    "new_params = B"
   ]
  },
  {
   "cell_type": "code",
   "execution_count": 309,
   "metadata": {},
   "outputs": [],
   "source": [
    "# Lists to hold values for plotting\n",
    "x_list = []\n",
    "sse_list = []\n",
    "rsq_list = []"
   ]
  },
  {
   "cell_type": "code",
   "execution_count": 310,
   "metadata": {},
   "outputs": [
    {
     "data": {
      "text/plain": [
       "1.4331111111111114"
      ]
     },
     "execution_count": 310,
     "metadata": {},
     "output_type": "execute_result"
    }
   ],
   "source": [
    "# Loop version for calulating SST\n",
    "\n",
    "sst = 0\n",
    "for column in Y.T:\n",
    "    # print(np.mean(column))\n",
    "    for each in column:\n",
    "        sst = sst + (each - np.mean(column)) ** 2\n",
    "        \n",
    "sst"
   ]
  },
  {
   "cell_type": "code",
   "execution_count": 311,
   "metadata": {},
   "outputs": [
    {
     "data": {
      "text/plain": [
       "1.4331111111111112"
      ]
     },
     "execution_count": 311,
     "metadata": {},
     "output_type": "execute_result"
    }
   ],
   "source": [
    "# Condensed version of SST\n",
    "\n",
    "sst = np.sum(np.subtract(Y, np.mean(Y, axis=0))**2)\n",
    "\n",
    "sst"
   ]
  },
  {
   "cell_type": "code",
   "execution_count": 312,
   "metadata": {},
   "outputs": [],
   "source": [
    "# 25 epochs for 2L NN\n",
    "\n",
    "for i in range(0, 25):\n",
    "    \n",
    "    # Pre-activation matrix\n",
    "    U = np.dot(X, new_params)\n",
    "    \n",
    "    # Predicted value matrix\n",
    "    Y_hat = activations.sigmoid(U)\n",
    "    \n",
    "    # Negative error matrix\n",
    "    E = Y_hat - Y\n",
    "    \n",
    "    # Correction matrix\n",
    "    Delta = np.multiply(np.multiply(Y_hat,(1-Y_hat)),E)\n",
    "    \n",
    "    # Gradients matrix\n",
    "    G = np.transpose(X) * Delta\n",
    "    \n",
    "    # Updated values matrix\n",
    "    new_params = new_params - G * n\n",
    "    \n",
    "    # Sum of squared errors\n",
    "    sse = (np.linalg.norm(E)) ** 2\n",
    "    # sse = np.sum(E ** 2)\n",
    "\n",
    "    x_list.append(i)\n",
    "    sse_list.append(sse)\n",
    "    rsq_list.append(1-sse/sst)\n"
   ]
  },
  {
   "cell_type": "code",
   "execution_count": 313,
   "metadata": {},
   "outputs": [
    {
     "data": {
      "image/png": "[encoded data removed]",
      "text/plain": [
       "<Figure size 1440x720 with 2 Axes>"
      ]
     },
     "metadata": {
      "needs_background": "light"
     },
     "output_type": "display_data"
    }
   ],
   "source": [
    "# Plotting our findings\n",
    "\n",
    "plt.figure(figsize=(20, 10))\n",
    "\n",
    "plt.subplot(1, 2, 1)\n",
    "plt.plot(x_list, sse_list)\n",
    "plt.title('SSE vs Iterations')\n",
    "plt.xlabel('Iterations')\n",
    "plt.ylabel('SSE')\n",
    "\n",
    "plt.subplot(1, 2, 2)\n",
    "plt.plot(x_list, rsq_list)\n",
    "plt.title(\"R^2 vs Iterations\")\n",
    "plt.xlabel('Iterations')\n",
    "plt.ylabel('R^2')\n",
    "\n",
    "plt.show()"
   ]
  }
 ],
 "metadata": {
  "interpreter": {
   "hash": "8338625309694086bca43e95af1b4ba2228479321112d6e6d2d9c087c2893b51"
  },
  "kernelspec": {
   "display_name": "Python 3.9.7 ('base')",
   "language": "python",
   "name": "python3"
  },
  "language_info": {
   "codemirror_mode": {
    "name": "ipython",
    "version": 3
   },
   "file_extension": ".py",
   "mimetype": "text/x-python",
   "name": "python",
   "nbconvert_exporter": "python",
   "pygments_lexer": "ipython3",
   "version": "3.8.11"
  },
  "orig_nbformat": 4
 },
 "nbformat": 4,
 "nbformat_minor": 2
}
